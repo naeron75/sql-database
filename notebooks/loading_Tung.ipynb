{
 "cells": [
  {
   "cell_type": "code",
   "execution_count": null,
   "id": "7105221f-e208-4d3b-b168-0d809cb430df",
   "metadata": {},
   "outputs": [],
   "source": [
    "import pandas as pd\n",
    "import matplotlib as plt\n",
    "import numpy as np"
   ]
  },
  {
   "cell_type": "code",
   "execution_count": null,
   "id": "d97d3478-a592-40c0-b381-274b4d16169a",
   "metadata": {},
   "outputs": [],
   "source": [
    "medals_df = pd.read_csv('../data/raw/olympic_medals.csv')\n",
    "hosts_df = pd.read_csv('../data/raw/olympic_hosts.csv')\n",
    "paris_df = pd.read_csv('../data/raw/paris_medallists.csv')"
   ]
  },
  {
   "cell_type": "code",
   "execution_count": null,
   "id": "54b93bdb-2c64-46eb-b1ad-fe85419ba086",
   "metadata": {},
   "outputs": [],
   "source": [
    "medals_df.head()"
   ]
  },
  {
   "cell_type": "code",
   "execution_count": null,
   "id": "7419d660-6d57-4ceb-8e4d-3f5e51d3339e",
   "metadata": {
    "scrolled": true
   },
   "outputs": [],
   "source": [
    "columns_to_drop = ['event_title', 'event_gender', 'participant_type', 'participant_title', 'athlete_url', 'athlete_full_name', 'country_code', 'country_3_letter_code']\n",
    "medals_df.drop(columns_to_drop, axis=1, inplace=True)\n",
    "medals_df.head()\n",
    "\n",
    "medals_df.slug_game.unique()"
   ]
  },
  {
   "cell_type": "code",
   "execution_count": null,
   "id": "6c3b597e-b9ff-47aa-8896-57611da9410f",
   "metadata": {},
   "outputs": [],
   "source": [
    "def extract_year(slug_game):\n",
    "    parts = slug_game.split(\"-\")\n",
    "    \n",
    "    year = parts[-1]\n",
    "    host = \" \".join(parts[:-1])    \n",
    "    \n",
    "    if year.isdigit():\n",
    "        return int(year), host\n",
    "    return None, None\n",
    "\n",
    "\n",
    "medals_df[['year', 'host']] = medals_df['slug_game'].apply(lambda x: pd.Series(extract_year(x)))\n",
    "\n",
    "medals_df = medals_df[medals_df[\"year\"] >= 1916]\n",
    "medals_df_filtered = medals_df.drop(\"slug_game\", axis=1)\n",
    "\n",
    "\n",
    "medals_df_filtered\n"
   ]
  },
  {
   "cell_type": "code",
   "execution_count": null,
   "id": "e53dfcbf-bfe0-45e1-9c96-6c3626ba2a07",
   "metadata": {},
   "outputs": [],
   "source": [
    "olympics_np = list(medals_df_filtered[\"year\"].unique())\n",
    "olympics_year = [int(x) for x in olympics_np]\n",
    "\n",
    "countries_np = list(medals_df_filtered[\"host\"].unique())\n",
    "countries_year = [str(x) for x in countries_np]\n",
    "\n",
    "medal = [\"GOLD\", \"SILVER\", \"BRONZE\"]\n",
    "\n",
    "for y in olympics_year:\n",
    "    for c in countries_year:\n",
    "        for m in medal:\n",
    "            print(f\" {c} won {medals_df_filtered.medal_type.value_counts().get({m},0)} medals in {y}\")\n",
    "            \n",
    "\n"
   ]
  },
  {
   "cell_type": "code",
   "execution_count": null,
   "id": "8474f9e5-0888-4c3d-8707-be991f7a34e8",
   "metadata": {},
   "outputs": [],
   "source": [
    "hosts_df[hosts_df['game_season'] == 'Summer'].head()"
   ]
  },
  {
   "cell_type": "code",
   "execution_count": null,
   "id": "1b4b4008-b37c-419d-b159-96ef4e496b1a",
   "metadata": {},
   "outputs": [],
   "source": [
    "def create_country_column(slug):\n",
    "    for i, host_slug in enumerate(hosts_df['game_slug']):\n",
    "        if slug == host_slug:\n",
    "            return hosts_df['game_location'].iloc[i]\n",
    "\n",
    "def create_year_column(slug):\n",
    "    for i, host_slug in enumerate(hosts_df['game_slug']):\n",
    "        if slug == host_slug:\n",
    "            return hosts_df['game_year'].iloc[i]\n"
   ]
  },
  {
   "cell_type": "code",
   "execution_count": null,
   "id": "9826f1fb-dc95-499b-9651-449ffb90398c",
   "metadata": {},
   "outputs": [],
   "source": [
    "df = medals_df.copy()"
   ]
  },
  {
   "cell_type": "code",
   "execution_count": null,
   "id": "8f8de22f-43b9-4451-bcb0-7155396deacd",
   "metadata": {},
   "outputs": [],
   "source": [
    "df['host_country'] = medals_df['slug_game'].apply(create_country_column)\n",
    "df['game_year'] = medals_df['slug_game'].apply(create_year_column)"
   ]
  },
  {
   "cell_type": "code",
   "execution_count": null,
   "id": "24563613-c723-4252-80c1-bc81097998d4",
   "metadata": {},
   "outputs": [],
   "source": [
    "df.head()"
   ]
  },
  {
   "cell_type": "code",
   "execution_count": null,
   "id": "7762afe1-8d56-42ee-bf02-4519b6f2a73f",
   "metadata": {},
   "outputs": [],
   "source": [
    "df.isnull().values.any()"
   ]
  },
  {
   "cell_type": "code",
   "execution_count": null,
   "id": "789155e8-d90e-44ad-be93-d128c54491fa",
   "metadata": {},
   "outputs": [],
   "source": [
    "df.drop('slug_game', axis=1, inplace=True)\n",
    "df.head()"
   ]
  },
  {
   "cell_type": "code",
   "execution_count": null,
   "id": "04cb3b95-8c1c-4dde-a1b1-002ae9bb7b21",
   "metadata": {},
   "outputs": [],
   "source": [
    "paris_df.head()"
   ]
  },
  {
   "cell_type": "code",
   "execution_count": null,
   "id": "cd71e99f-353d-49e8-bfab-c4bca984d17b",
   "metadata": {},
   "outputs": [],
   "source": [
    "paris_df.columns"
   ]
  },
  {
   "cell_type": "code",
   "execution_count": null,
   "id": "3252f46f-c143-4c14-96bc-40884aaf65d5",
   "metadata": {},
   "outputs": [],
   "source": []
  }
 ],
 "metadata": {
  "kernelspec": {
   "display_name": "Python 3 (ipykernel)",
   "language": "python",
   "name": "python3"
  },
  "language_info": {
   "codemirror_mode": {
    "name": "ipython",
    "version": 3
   },
   "file_extension": ".py",
   "mimetype": "text/x-python",
   "name": "python",
   "nbconvert_exporter": "python",
   "pygments_lexer": "ipython3",
   "version": "3.12.4"
  }
 },
 "nbformat": 4,
 "nbformat_minor": 5
}
