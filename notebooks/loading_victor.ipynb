{
 "cells": [
  {
   "cell_type": "code",
   "execution_count": 1,
   "id": "7105221f-e208-4d3b-b168-0d809cb430df",
   "metadata": {},
   "outputs": [],
   "source": [
    "import pandas as pd"
   ]
  },
  {
   "cell_type": "code",
   "execution_count": 2,
   "id": "d97d3478-a592-40c0-b381-274b4d16169a",
   "metadata": {},
   "outputs": [],
   "source": [
    "medals_df = pd.read_csv('../data/raw/olympic_medals.csv')\n",
    "hosts_df = pd.read_csv('../data/raw/olympic_hosts.csv')\n",
    "paris_df = pd.read_csv('../data/raw/paris_medallists.csv')"
   ]
  },
  {
   "cell_type": "code",
   "execution_count": 3,
   "id": "c2a5257c-03a4-4fff-b5cd-84af7e56e68e",
   "metadata": {},
   "outputs": [],
   "source": [
    "def clean_paris_duplicates(paris_df):\n",
    "    condition = paris_df['event_type'].isin(['TEAM', 'HTEAM', 'HCOUP', 'COUP'])\n",
    "    \n",
    "    #Gets all team events and drops duplicates\n",
    "    paris_df_filtered = paris_df[condition].drop_duplicates(\n",
    "        subset=['medal_date', 'medal_type', 'medal_code', 'country_code', 'country', \n",
    "                'country_long', 'nationality_code', 'nationality', 'nationality_long'], \n",
    "        keep='first'\n",
    "    )\n",
    "    \n",
    "    # Combines filtered team events with individual events\n",
    "    paris_df_update = pd.concat([paris_df[~condition], paris_df_filtered])\n",
    "    return(paris_df_update)\n",
    "\n",
    "def clean_medal_duplicates(medals_df):\n",
    "    condition = medals_df['participant_type'].isin(['GameTeam'])\n",
    "    \n",
    "    #Gets all team events and drops duplicates\n",
    "    medals_df_filtered = medals_df[condition].drop_duplicates(\n",
    "        subset=['discipline_title', 'slug_game', 'event_title', 'event_gender',\n",
    "       'medal_type'], \n",
    "        keep='first'\n",
    "    )\n",
    "    \n",
    "    # Combines filtered team events with individual events\n",
    "    medals_df_update = pd.concat([medals_df[~condition], medals_df_filtered])\n",
    "    return(medals_df_update)"
   ]
  },
  {
   "cell_type": "code",
   "execution_count": 4,
   "id": "54b93bdb-2c64-46eb-b1ad-fe85419ba086",
   "metadata": {},
   "outputs": [
    {
     "data": {
      "text/html": [
       "<div>\n",
       "<style scoped>\n",
       "    .dataframe tbody tr th:only-of-type {\n",
       "        vertical-align: middle;\n",
       "    }\n",
       "\n",
       "    .dataframe tbody tr th {\n",
       "        vertical-align: top;\n",
       "    }\n",
       "\n",
       "    .dataframe thead th {\n",
       "        text-align: right;\n",
       "    }\n",
       "</style>\n",
       "<table border=\"1\" class=\"dataframe\">\n",
       "  <thead>\n",
       "    <tr style=\"text-align: right;\">\n",
       "      <th></th>\n",
       "      <th>discipline_title</th>\n",
       "      <th>slug_game</th>\n",
       "      <th>event_title</th>\n",
       "      <th>event_gender</th>\n",
       "      <th>medal_type</th>\n",
       "      <th>participant_type</th>\n",
       "      <th>participant_title</th>\n",
       "      <th>athlete_url</th>\n",
       "      <th>athlete_full_name</th>\n",
       "      <th>country_name</th>\n",
       "      <th>country_code</th>\n",
       "      <th>country_3_letter_code</th>\n",
       "    </tr>\n",
       "  </thead>\n",
       "  <tbody>\n",
       "    <tr>\n",
       "      <th>0</th>\n",
       "      <td>Curling</td>\n",
       "      <td>beijing-2022</td>\n",
       "      <td>Mixed Doubles</td>\n",
       "      <td>Mixed</td>\n",
       "      <td>GOLD</td>\n",
       "      <td>GameTeam</td>\n",
       "      <td>Italy</td>\n",
       "      <td>https://olympics.com/en/athletes/stefania-cons...</td>\n",
       "      <td>Stefania CONSTANTINI</td>\n",
       "      <td>Italy</td>\n",
       "      <td>IT</td>\n",
       "      <td>ITA</td>\n",
       "    </tr>\n",
       "    <tr>\n",
       "      <th>1</th>\n",
       "      <td>Curling</td>\n",
       "      <td>beijing-2022</td>\n",
       "      <td>Mixed Doubles</td>\n",
       "      <td>Mixed</td>\n",
       "      <td>GOLD</td>\n",
       "      <td>GameTeam</td>\n",
       "      <td>Italy</td>\n",
       "      <td>https://olympics.com/en/athletes/amos-mosaner</td>\n",
       "      <td>Amos MOSANER</td>\n",
       "      <td>Italy</td>\n",
       "      <td>IT</td>\n",
       "      <td>ITA</td>\n",
       "    </tr>\n",
       "    <tr>\n",
       "      <th>2</th>\n",
       "      <td>Curling</td>\n",
       "      <td>beijing-2022</td>\n",
       "      <td>Mixed Doubles</td>\n",
       "      <td>Mixed</td>\n",
       "      <td>SILVER</td>\n",
       "      <td>GameTeam</td>\n",
       "      <td>Norway</td>\n",
       "      <td>https://olympics.com/en/athletes/kristin-skaslien</td>\n",
       "      <td>Kristin SKASLIEN</td>\n",
       "      <td>Norway</td>\n",
       "      <td>NO</td>\n",
       "      <td>NOR</td>\n",
       "    </tr>\n",
       "    <tr>\n",
       "      <th>3</th>\n",
       "      <td>Curling</td>\n",
       "      <td>beijing-2022</td>\n",
       "      <td>Mixed Doubles</td>\n",
       "      <td>Mixed</td>\n",
       "      <td>SILVER</td>\n",
       "      <td>GameTeam</td>\n",
       "      <td>Norway</td>\n",
       "      <td>https://olympics.com/en/athletes/magnus-nedreg...</td>\n",
       "      <td>Magnus NEDREGOTTEN</td>\n",
       "      <td>Norway</td>\n",
       "      <td>NO</td>\n",
       "      <td>NOR</td>\n",
       "    </tr>\n",
       "    <tr>\n",
       "      <th>4</th>\n",
       "      <td>Curling</td>\n",
       "      <td>beijing-2022</td>\n",
       "      <td>Mixed Doubles</td>\n",
       "      <td>Mixed</td>\n",
       "      <td>BRONZE</td>\n",
       "      <td>GameTeam</td>\n",
       "      <td>Sweden</td>\n",
       "      <td>https://olympics.com/en/athletes/almida-de-val</td>\n",
       "      <td>Almida DE VAL</td>\n",
       "      <td>Sweden</td>\n",
       "      <td>SE</td>\n",
       "      <td>SWE</td>\n",
       "    </tr>\n",
       "  </tbody>\n",
       "</table>\n",
       "</div>"
      ],
      "text/plain": [
       "  discipline_title     slug_game    event_title event_gender medal_type  \\\n",
       "0          Curling  beijing-2022  Mixed Doubles        Mixed       GOLD   \n",
       "1          Curling  beijing-2022  Mixed Doubles        Mixed       GOLD   \n",
       "2          Curling  beijing-2022  Mixed Doubles        Mixed     SILVER   \n",
       "3          Curling  beijing-2022  Mixed Doubles        Mixed     SILVER   \n",
       "4          Curling  beijing-2022  Mixed Doubles        Mixed     BRONZE   \n",
       "\n",
       "  participant_type participant_title  \\\n",
       "0         GameTeam             Italy   \n",
       "1         GameTeam             Italy   \n",
       "2         GameTeam            Norway   \n",
       "3         GameTeam            Norway   \n",
       "4         GameTeam            Sweden   \n",
       "\n",
       "                                         athlete_url     athlete_full_name  \\\n",
       "0  https://olympics.com/en/athletes/stefania-cons...  Stefania CONSTANTINI   \n",
       "1      https://olympics.com/en/athletes/amos-mosaner          Amos MOSANER   \n",
       "2  https://olympics.com/en/athletes/kristin-skaslien      Kristin SKASLIEN   \n",
       "3  https://olympics.com/en/athletes/magnus-nedreg...    Magnus NEDREGOTTEN   \n",
       "4     https://olympics.com/en/athletes/almida-de-val         Almida DE VAL   \n",
       "\n",
       "  country_name country_code country_3_letter_code  \n",
       "0        Italy           IT                   ITA  \n",
       "1        Italy           IT                   ITA  \n",
       "2       Norway           NO                   NOR  \n",
       "3       Norway           NO                   NOR  \n",
       "4       Sweden           SE                   SWE  "
      ]
     },
     "execution_count": 4,
     "metadata": {},
     "output_type": "execute_result"
    }
   ],
   "source": [
    "medals_df.head()"
   ]
  },
  {
   "cell_type": "code",
   "execution_count": 5,
   "id": "bc09cb34-32fd-4c3f-9e39-92715ae3f87c",
   "metadata": {},
   "outputs": [],
   "source": [
    "medals_df = clean_medal_duplicates(medals_df)"
   ]
  },
  {
   "cell_type": "code",
   "execution_count": 6,
   "id": "26c8ce41-2e7c-4d53-9f34-fd5f8b329af2",
   "metadata": {},
   "outputs": [
    {
     "data": {
      "text/html": [
       "<div>\n",
       "<style scoped>\n",
       "    .dataframe tbody tr th:only-of-type {\n",
       "        vertical-align: middle;\n",
       "    }\n",
       "\n",
       "    .dataframe tbody tr th {\n",
       "        vertical-align: top;\n",
       "    }\n",
       "\n",
       "    .dataframe thead th {\n",
       "        text-align: right;\n",
       "    }\n",
       "</style>\n",
       "<table border=\"1\" class=\"dataframe\">\n",
       "  <thead>\n",
       "    <tr style=\"text-align: right;\">\n",
       "      <th></th>\n",
       "      <th>discipline_title</th>\n",
       "      <th>slug_game</th>\n",
       "      <th>event_title</th>\n",
       "      <th>event_gender</th>\n",
       "      <th>medal_type</th>\n",
       "      <th>participant_type</th>\n",
       "      <th>participant_title</th>\n",
       "      <th>athlete_url</th>\n",
       "      <th>athlete_full_name</th>\n",
       "      <th>country_name</th>\n",
       "      <th>country_code</th>\n",
       "      <th>country_3_letter_code</th>\n",
       "    </tr>\n",
       "  </thead>\n",
       "  <tbody>\n",
       "    <tr>\n",
       "      <th>21632</th>\n",
       "      <td>Gymnastics Artistic</td>\n",
       "      <td>athens-1896</td>\n",
       "      <td>team parallel bars men</td>\n",
       "      <td>Men</td>\n",
       "      <td>BRONZE</td>\n",
       "      <td>GameTeam</td>\n",
       "      <td>Ethnikos Gymnastikos Syllogos #2</td>\n",
       "      <td>NaN</td>\n",
       "      <td>Filippos Karvelas</td>\n",
       "      <td>Greece</td>\n",
       "      <td>GR</td>\n",
       "      <td>GRE</td>\n",
       "    </tr>\n",
       "    <tr>\n",
       "      <th>21634</th>\n",
       "      <td>Gymnastics Artistic</td>\n",
       "      <td>athens-1896</td>\n",
       "      <td>team horizontal bar men</td>\n",
       "      <td>Men</td>\n",
       "      <td>GOLD</td>\n",
       "      <td>GameTeam</td>\n",
       "      <td>Germany team</td>\n",
       "      <td>NaN</td>\n",
       "      <td>NaN</td>\n",
       "      <td>Germany</td>\n",
       "      <td>DE</td>\n",
       "      <td>GER</td>\n",
       "    </tr>\n",
       "    <tr>\n",
       "      <th>21682</th>\n",
       "      <td>Tennis</td>\n",
       "      <td>athens-1896</td>\n",
       "      <td>doubles men</td>\n",
       "      <td>Men</td>\n",
       "      <td>GOLD</td>\n",
       "      <td>GameTeam</td>\n",
       "      <td>Mixed team #2</td>\n",
       "      <td>https://olympics.com/en/athletes/john-boland</td>\n",
       "      <td>John BOLAND</td>\n",
       "      <td>MIX</td>\n",
       "      <td>NaN</td>\n",
       "      <td>MIX</td>\n",
       "    </tr>\n",
       "    <tr>\n",
       "      <th>21684</th>\n",
       "      <td>Tennis</td>\n",
       "      <td>athens-1896</td>\n",
       "      <td>doubles men</td>\n",
       "      <td>Men</td>\n",
       "      <td>SILVER</td>\n",
       "      <td>GameTeam</td>\n",
       "      <td>Greece team #1</td>\n",
       "      <td>NaN</td>\n",
       "      <td>Demetrius Casdagli</td>\n",
       "      <td>Greece</td>\n",
       "      <td>GR</td>\n",
       "      <td>GRE</td>\n",
       "    </tr>\n",
       "    <tr>\n",
       "      <th>21686</th>\n",
       "      <td>Tennis</td>\n",
       "      <td>athens-1896</td>\n",
       "      <td>doubles men</td>\n",
       "      <td>Men</td>\n",
       "      <td>BRONZE</td>\n",
       "      <td>GameTeam</td>\n",
       "      <td>Mixed team #1</td>\n",
       "      <td>https://olympics.com/en/athletes/edwin-flack</td>\n",
       "      <td>Edwin FLACK</td>\n",
       "      <td>MIX</td>\n",
       "      <td>NaN</td>\n",
       "      <td>MIX</td>\n",
       "    </tr>\n",
       "  </tbody>\n",
       "</table>\n",
       "</div>"
      ],
      "text/plain": [
       "          discipline_title    slug_game              event_title event_gender  \\\n",
       "21632  Gymnastics Artistic  athens-1896   team parallel bars men          Men   \n",
       "21634  Gymnastics Artistic  athens-1896  team horizontal bar men          Men   \n",
       "21682               Tennis  athens-1896              doubles men          Men   \n",
       "21684               Tennis  athens-1896              doubles men          Men   \n",
       "21686               Tennis  athens-1896              doubles men          Men   \n",
       "\n",
       "      medal_type participant_type                 participant_title  \\\n",
       "21632     BRONZE         GameTeam  Ethnikos Gymnastikos Syllogos #2   \n",
       "21634       GOLD         GameTeam                      Germany team   \n",
       "21682       GOLD         GameTeam                     Mixed team #2   \n",
       "21684     SILVER         GameTeam                    Greece team #1   \n",
       "21686     BRONZE         GameTeam                     Mixed team #1   \n",
       "\n",
       "                                        athlete_url   athlete_full_name  \\\n",
       "21632                                           NaN   Filippos Karvelas   \n",
       "21634                                           NaN                 NaN   \n",
       "21682  https://olympics.com/en/athletes/john-boland         John BOLAND   \n",
       "21684                                           NaN  Demetrius Casdagli   \n",
       "21686  https://olympics.com/en/athletes/edwin-flack         Edwin FLACK   \n",
       "\n",
       "      country_name country_code country_3_letter_code  \n",
       "21632       Greece           GR                   GRE  \n",
       "21634      Germany           DE                   GER  \n",
       "21682          MIX          NaN                   MIX  \n",
       "21684       Greece           GR                   GRE  \n",
       "21686          MIX          NaN                   MIX  "
      ]
     },
     "execution_count": 6,
     "metadata": {},
     "output_type": "execute_result"
    }
   ],
   "source": [
    "medals_df.tail()"
   ]
  },
  {
   "cell_type": "code",
   "execution_count": 7,
   "id": "f73a2651-b466-45fd-9882-48475d654582",
   "metadata": {},
   "outputs": [],
   "source": [
    "paris_df = clean_paris_duplicates(paris_df)"
   ]
  },
  {
   "cell_type": "code",
   "execution_count": 8,
   "id": "bbb6da2e-6b39-4ae4-a607-576921358839",
   "metadata": {},
   "outputs": [
    {
     "data": {
      "text/plain": [
       "participant_type\n",
       "Athlete     15113\n",
       "GameTeam     5071\n",
       "Name: count, dtype: int64"
      ]
     },
     "execution_count": 8,
     "metadata": {},
     "output_type": "execute_result"
    }
   ],
   "source": [
    "medals_df['participant_type'].value_counts()"
   ]
  },
  {
   "cell_type": "code",
   "execution_count": 9,
   "id": "7419d660-6d57-4ceb-8e4d-3f5e51d3339e",
   "metadata": {},
   "outputs": [
    {
     "data": {
      "text/html": [
       "<div>\n",
       "<style scoped>\n",
       "    .dataframe tbody tr th:only-of-type {\n",
       "        vertical-align: middle;\n",
       "    }\n",
       "\n",
       "    .dataframe tbody tr th {\n",
       "        vertical-align: top;\n",
       "    }\n",
       "\n",
       "    .dataframe thead th {\n",
       "        text-align: right;\n",
       "    }\n",
       "</style>\n",
       "<table border=\"1\" class=\"dataframe\">\n",
       "  <thead>\n",
       "    <tr style=\"text-align: right;\">\n",
       "      <th></th>\n",
       "      <th>slug_game</th>\n",
       "      <th>medal_type</th>\n",
       "      <th>participant_type</th>\n",
       "      <th>country_name</th>\n",
       "    </tr>\n",
       "  </thead>\n",
       "  <tbody>\n",
       "    <tr>\n",
       "      <th>12</th>\n",
       "      <td>beijing-2022</td>\n",
       "      <td>SILVER</td>\n",
       "      <td>Athlete</td>\n",
       "      <td>Canada</td>\n",
       "    </tr>\n",
       "    <tr>\n",
       "      <th>13</th>\n",
       "      <td>beijing-2022</td>\n",
       "      <td>GOLD</td>\n",
       "      <td>Athlete</td>\n",
       "      <td>Sweden</td>\n",
       "    </tr>\n",
       "    <tr>\n",
       "      <th>14</th>\n",
       "      <td>beijing-2022</td>\n",
       "      <td>BRONZE</td>\n",
       "      <td>Athlete</td>\n",
       "      <td>Japan</td>\n",
       "    </tr>\n",
       "    <tr>\n",
       "      <th>15</th>\n",
       "      <td>beijing-2022</td>\n",
       "      <td>GOLD</td>\n",
       "      <td>Athlete</td>\n",
       "      <td>New Zealand</td>\n",
       "    </tr>\n",
       "    <tr>\n",
       "      <th>16</th>\n",
       "      <td>beijing-2022</td>\n",
       "      <td>SILVER</td>\n",
       "      <td>Athlete</td>\n",
       "      <td>United States of America</td>\n",
       "    </tr>\n",
       "  </tbody>\n",
       "</table>\n",
       "</div>"
      ],
      "text/plain": [
       "       slug_game medal_type participant_type              country_name\n",
       "12  beijing-2022     SILVER          Athlete                    Canada\n",
       "13  beijing-2022       GOLD          Athlete                    Sweden\n",
       "14  beijing-2022     BRONZE          Athlete                     Japan\n",
       "15  beijing-2022       GOLD          Athlete               New Zealand\n",
       "16  beijing-2022     SILVER          Athlete  United States of America"
      ]
     },
     "execution_count": 9,
     "metadata": {},
     "output_type": "execute_result"
    }
   ],
   "source": [
    "columns_to_drop = ['discipline_title', 'event_title', 'participant_title', 'event_gender', 'athlete_url', 'athlete_full_name', 'country_code', 'country_3_letter_code']\n",
    "medals_df.drop(columns_to_drop, axis=1, inplace=True)\n",
    "medals_df.head()"
   ]
  },
  {
   "cell_type": "code",
   "execution_count": 10,
   "id": "f622a9e0-1fd2-447b-89f9-3fe77c752b68",
   "metadata": {},
   "outputs": [
    {
     "data": {
      "text/html": [
       "<div>\n",
       "<style scoped>\n",
       "    .dataframe tbody tr th:only-of-type {\n",
       "        vertical-align: middle;\n",
       "    }\n",
       "\n",
       "    .dataframe tbody tr th {\n",
       "        vertical-align: top;\n",
       "    }\n",
       "\n",
       "    .dataframe thead th {\n",
       "        text-align: right;\n",
       "    }\n",
       "</style>\n",
       "<table border=\"1\" class=\"dataframe\">\n",
       "  <thead>\n",
       "    <tr style=\"text-align: right;\">\n",
       "      <th></th>\n",
       "      <th>game_slug</th>\n",
       "      <th>game_end_date</th>\n",
       "      <th>game_start_date</th>\n",
       "      <th>game_location</th>\n",
       "      <th>game_name</th>\n",
       "      <th>game_season</th>\n",
       "      <th>game_year</th>\n",
       "    </tr>\n",
       "  </thead>\n",
       "  <tbody>\n",
       "    <tr>\n",
       "      <th>0</th>\n",
       "      <td>beijing-2022</td>\n",
       "      <td>2022-02-20T12:00:00Z</td>\n",
       "      <td>2022-02-04T15:00:00Z</td>\n",
       "      <td>China</td>\n",
       "      <td>Beijing 2022</td>\n",
       "      <td>Winter</td>\n",
       "      <td>2022</td>\n",
       "    </tr>\n",
       "    <tr>\n",
       "      <th>1</th>\n",
       "      <td>tokyo-2020</td>\n",
       "      <td>2021-08-08T14:00:00Z</td>\n",
       "      <td>2021-07-23T11:00:00Z</td>\n",
       "      <td>Japan</td>\n",
       "      <td>Tokyo 2020</td>\n",
       "      <td>Summer</td>\n",
       "      <td>2020</td>\n",
       "    </tr>\n",
       "    <tr>\n",
       "      <th>2</th>\n",
       "      <td>pyeongchang-2018</td>\n",
       "      <td>2018-02-25T08:00:00Z</td>\n",
       "      <td>2018-02-08T23:00:00Z</td>\n",
       "      <td>Republic of Korea</td>\n",
       "      <td>PyeongChang 2018</td>\n",
       "      <td>Winter</td>\n",
       "      <td>2018</td>\n",
       "    </tr>\n",
       "    <tr>\n",
       "      <th>3</th>\n",
       "      <td>rio-2016</td>\n",
       "      <td>2016-08-21T21:00:00Z</td>\n",
       "      <td>2016-08-05T12:00:00Z</td>\n",
       "      <td>Brazil</td>\n",
       "      <td>Rio 2016</td>\n",
       "      <td>Summer</td>\n",
       "      <td>2016</td>\n",
       "    </tr>\n",
       "    <tr>\n",
       "      <th>4</th>\n",
       "      <td>sochi-2014</td>\n",
       "      <td>2014-02-23T16:00:00Z</td>\n",
       "      <td>2014-02-07T04:00:00Z</td>\n",
       "      <td>Russian Federation</td>\n",
       "      <td>Sochi 2014</td>\n",
       "      <td>Winter</td>\n",
       "      <td>2014</td>\n",
       "    </tr>\n",
       "  </tbody>\n",
       "</table>\n",
       "</div>"
      ],
      "text/plain": [
       "          game_slug         game_end_date       game_start_date  \\\n",
       "0      beijing-2022  2022-02-20T12:00:00Z  2022-02-04T15:00:00Z   \n",
       "1        tokyo-2020  2021-08-08T14:00:00Z  2021-07-23T11:00:00Z   \n",
       "2  pyeongchang-2018  2018-02-25T08:00:00Z  2018-02-08T23:00:00Z   \n",
       "3          rio-2016  2016-08-21T21:00:00Z  2016-08-05T12:00:00Z   \n",
       "4        sochi-2014  2014-02-23T16:00:00Z  2014-02-07T04:00:00Z   \n",
       "\n",
       "        game_location         game_name game_season  game_year  \n",
       "0               China      Beijing 2022      Winter       2022  \n",
       "1               Japan        Tokyo 2020      Summer       2020  \n",
       "2   Republic of Korea  PyeongChang 2018      Winter       2018  \n",
       "3              Brazil          Rio 2016      Summer       2016  \n",
       "4  Russian Federation        Sochi 2014      Winter       2014  "
      ]
     },
     "execution_count": 10,
     "metadata": {},
     "output_type": "execute_result"
    }
   ],
   "source": [
    "hosts_df.head()"
   ]
  },
  {
   "cell_type": "code",
   "execution_count": 11,
   "id": "8474f9e5-0888-4c3d-8707-be991f7a34e8",
   "metadata": {},
   "outputs": [],
   "source": [
    "summer_hosts = hosts_df[hosts_df['game_season'] == 'Summer']"
   ]
  },
  {
   "cell_type": "code",
   "execution_count": 12,
   "id": "bf2e22ea-0793-4196-bc55-9c46a41bf5b1",
   "metadata": {},
   "outputs": [
    {
     "data": {
      "text/html": [
       "<div>\n",
       "<style scoped>\n",
       "    .dataframe tbody tr th:only-of-type {\n",
       "        vertical-align: middle;\n",
       "    }\n",
       "\n",
       "    .dataframe tbody tr th {\n",
       "        vertical-align: top;\n",
       "    }\n",
       "\n",
       "    .dataframe thead th {\n",
       "        text-align: right;\n",
       "    }\n",
       "</style>\n",
       "<table border=\"1\" class=\"dataframe\">\n",
       "  <thead>\n",
       "    <tr style=\"text-align: right;\">\n",
       "      <th></th>\n",
       "      <th>game_slug</th>\n",
       "      <th>game_end_date</th>\n",
       "      <th>game_start_date</th>\n",
       "      <th>game_location</th>\n",
       "      <th>game_name</th>\n",
       "      <th>game_season</th>\n",
       "      <th>game_year</th>\n",
       "    </tr>\n",
       "  </thead>\n",
       "  <tbody>\n",
       "    <tr>\n",
       "      <th>1</th>\n",
       "      <td>tokyo-2020</td>\n",
       "      <td>2021-08-08T14:00:00Z</td>\n",
       "      <td>2021-07-23T11:00:00Z</td>\n",
       "      <td>Japan</td>\n",
       "      <td>Tokyo 2020</td>\n",
       "      <td>Summer</td>\n",
       "      <td>2020</td>\n",
       "    </tr>\n",
       "    <tr>\n",
       "      <th>3</th>\n",
       "      <td>rio-2016</td>\n",
       "      <td>2016-08-21T21:00:00Z</td>\n",
       "      <td>2016-08-05T12:00:00Z</td>\n",
       "      <td>Brazil</td>\n",
       "      <td>Rio 2016</td>\n",
       "      <td>Summer</td>\n",
       "      <td>2016</td>\n",
       "    </tr>\n",
       "    <tr>\n",
       "      <th>5</th>\n",
       "      <td>london-2012</td>\n",
       "      <td>2012-08-12T19:00:00Z</td>\n",
       "      <td>2012-07-27T07:00:00Z</td>\n",
       "      <td>Great Britain</td>\n",
       "      <td>London 2012</td>\n",
       "      <td>Summer</td>\n",
       "      <td>2012</td>\n",
       "    </tr>\n",
       "    <tr>\n",
       "      <th>7</th>\n",
       "      <td>beijing-2008</td>\n",
       "      <td>2008-08-24T12:00:00Z</td>\n",
       "      <td>2008-08-08T00:00:00Z</td>\n",
       "      <td>China</td>\n",
       "      <td>Beijing 2008</td>\n",
       "      <td>Summer</td>\n",
       "      <td>2008</td>\n",
       "    </tr>\n",
       "    <tr>\n",
       "      <th>9</th>\n",
       "      <td>athens-2004</td>\n",
       "      <td>2004-08-29T18:00:00Z</td>\n",
       "      <td>2004-08-13T06:00:00Z</td>\n",
       "      <td>Greece</td>\n",
       "      <td>Athens 2004</td>\n",
       "      <td>Summer</td>\n",
       "      <td>2004</td>\n",
       "    </tr>\n",
       "  </tbody>\n",
       "</table>\n",
       "</div>"
      ],
      "text/plain": [
       "      game_slug         game_end_date       game_start_date  game_location  \\\n",
       "1    tokyo-2020  2021-08-08T14:00:00Z  2021-07-23T11:00:00Z          Japan   \n",
       "3      rio-2016  2016-08-21T21:00:00Z  2016-08-05T12:00:00Z         Brazil   \n",
       "5   london-2012  2012-08-12T19:00:00Z  2012-07-27T07:00:00Z  Great Britain   \n",
       "7  beijing-2008  2008-08-24T12:00:00Z  2008-08-08T00:00:00Z          China   \n",
       "9   athens-2004  2004-08-29T18:00:00Z  2004-08-13T06:00:00Z         Greece   \n",
       "\n",
       "      game_name game_season  game_year  \n",
       "1    Tokyo 2020      Summer       2020  \n",
       "3      Rio 2016      Summer       2016  \n",
       "5   London 2012      Summer       2012  \n",
       "7  Beijing 2008      Summer       2008  \n",
       "9   Athens 2004      Summer       2004  "
      ]
     },
     "execution_count": 12,
     "metadata": {},
     "output_type": "execute_result"
    }
   ],
   "source": [
    "summer_hosts.head()"
   ]
  },
  {
   "cell_type": "code",
   "execution_count": 13,
   "id": "1b4b4008-b37c-419d-b159-96ef4e496b1a",
   "metadata": {},
   "outputs": [],
   "source": [
    "def create_country_column(slug):\n",
    "    for i, host_slug in enumerate(hosts_df['game_slug']):\n",
    "        if slug == host_slug:\n",
    "            return hosts_df['game_location'].iloc[i]\n",
    "\n",
    "def create_year_column(slug):\n",
    "    for i, host_slug in enumerate(hosts_df['game_slug']):\n",
    "        if slug == host_slug:\n",
    "            return hosts_df['game_year'].iloc[i]\n",
    "\n",
    "def create_season_column(slug):\n",
    "    for i, host_slug in enumerate(hosts_df['game_slug']):\n",
    "        if slug == host_slug:\n",
    "            return hosts_df['game_season'].iloc[i]"
   ]
  },
  {
   "cell_type": "code",
   "execution_count": 14,
   "id": "9826f1fb-dc95-499b-9651-449ffb90398c",
   "metadata": {},
   "outputs": [],
   "source": [
    "df = medals_df.copy()"
   ]
  },
  {
   "cell_type": "code",
   "execution_count": null,
   "id": "8f8de22f-43b9-4451-bcb0-7155396deacd",
   "metadata": {},
   "outputs": [],
   "source": [
    "df['host_country'] = medals_df['slug_game'].apply(create_country_column)\n",
    "df['game_year'] = medals_df['slug_game'].apply(create_year_column)\n",
    "df['game_season'] = medals_df['slug_game'].apply(create_season_column)\n",
    "df = clean_medal_duplicates(df)"
   ]
  },
  {
   "cell_type": "code",
   "execution_count": null,
   "id": "2dc87195-8221-4f50-85fd-c321110199b3",
   "metadata": {},
   "outputs": [],
   "source": [
    "df = df[df['game_season'] == 'Summer']\n",
    "df = df[df['game_year'] >= 1920]\n",
    "df.reset_index(drop=True, inplace=True)"
   ]
  },
  {
   "cell_type": "code",
   "execution_count": null,
   "id": "d23085d1-736b-4612-ac78-0d7f7a46b3ef",
   "metadata": {},
   "outputs": [],
   "source": [
    "df.head()"
   ]
  },
  {
   "cell_type": "code",
   "execution_count": null,
   "id": "96ff4197-99d5-47c7-954b-b4408c9c9138",
   "metadata": {},
   "outputs": [],
   "source": [
    "df.tail()"
   ]
  },
  {
   "cell_type": "code",
   "execution_count": null,
   "id": "7762afe1-8d56-42ee-bf02-4519b6f2a73f",
   "metadata": {},
   "outputs": [],
   "source": [
    "df.isnull().values.any()"
   ]
  },
  {
   "cell_type": "code",
   "execution_count": null,
   "id": "789155e8-d90e-44ad-be93-d128c54491fa",
   "metadata": {},
   "outputs": [],
   "source": [
    "df.drop(['slug_game', 'game_season'], axis=1, inplace=True)\n",
    "df.head()"
   ]
  },
  {
   "cell_type": "code",
   "execution_count": null,
   "id": "04cb3b95-8c1c-4dde-a1b1-002ae9bb7b21",
   "metadata": {},
   "outputs": [],
   "source": [
    "paris_df.head()"
   ]
  },
  {
   "cell_type": "code",
   "execution_count": null,
   "id": "cd71e99f-353d-49e8-bfab-c4bca984d17b",
   "metadata": {},
   "outputs": [],
   "source": [
    "paris_df.columns"
   ]
  },
  {
   "cell_type": "code",
   "execution_count": null,
   "id": "3252f46f-c143-4c14-96bc-40884aaf65d5",
   "metadata": {},
   "outputs": [],
   "source": [
    "tiny_paris_df = paris_df.drop(columns=['medal_date', 'medal_code', 'name', 'gender',\n",
    "       'country_code', 'country_long', 'nationality_code',\n",
    "       'nationality', 'nationality_long', 'team', 'team_gender', 'discipline',\n",
    "       'event', 'event_type', 'url_event', 'birth_date', 'code_athlete',\n",
    "       'code_team', 'is_medallist'])"
   ]
  },
  {
   "cell_type": "code",
   "execution_count": null,
   "id": "10043fb2-78e6-4ff9-ad15-2c24ad039fd3",
   "metadata": {},
   "outputs": [],
   "source": [
    "tiny_paris_df.head()"
   ]
  },
  {
   "cell_type": "code",
   "execution_count": null,
   "id": "829e6dc8-21d7-40b5-9813-6d655270fc01",
   "metadata": {},
   "outputs": [],
   "source": [
    "def standardize_medal_type(medal):\n",
    "    return medal.lower().strip().replace(' medal', '')"
   ]
  },
  {
   "cell_type": "code",
   "execution_count": null,
   "id": "381ce01c-2968-4a05-82ae-e46cf3b42d16",
   "metadata": {},
   "outputs": [],
   "source": [
    "tiny_paris_df['medal_type'] = tiny_paris_df['medal_type'].apply(standardize_medal_type)"
   ]
  },
  {
   "cell_type": "code",
   "execution_count": null,
   "id": "f8743f7d-e79b-40cf-b8c1-3410150d9156",
   "metadata": {},
   "outputs": [],
   "source": [
    "tiny_paris_df.head()"
   ]
  },
  {
   "cell_type": "code",
   "execution_count": null,
   "id": "c4dda99a-46a9-4c68-b270-568f56f4c9c9",
   "metadata": {},
   "outputs": [],
   "source": [
    "tiny_paris_df['host_country'] = 'France'"
   ]
  },
  {
   "cell_type": "code",
   "execution_count": null,
   "id": "f9f5b3e8-c267-48e6-a79f-4488e438d9ad",
   "metadata": {},
   "outputs": [],
   "source": [
    "tiny_paris_df['game_year'] = 2024"
   ]
  },
  {
   "cell_type": "code",
   "execution_count": null,
   "id": "2935e525-6c4d-48c7-8c5e-09ef82e15c83",
   "metadata": {},
   "outputs": [],
   "source": [
    "tiny_paris_df.head()"
   ]
  },
  {
   "cell_type": "code",
   "execution_count": null,
   "id": "381b0627-78a7-44c0-adbe-92fda79461d8",
   "metadata": {},
   "outputs": [],
   "source": [
    "def standardize_string(string):\n",
    "    return string.lower().strip()"
   ]
  },
  {
   "cell_type": "code",
   "execution_count": null,
   "id": "fec91411-2c52-4bc6-9748-4a014c6265bc",
   "metadata": {},
   "outputs": [],
   "source": [
    "tiny_paris_df['country'] = tiny_paris_df['country'].apply(standardize_string)\n",
    "tiny_paris_df['host_country'] = tiny_paris_df['host_country'].apply(standardize_string)\n",
    "tiny_paris_df.rename(columns={'country': 'athlete_country'}, inplace=True)\n",
    "\n",
    "df['medal_type'] = df['medal_type'].apply(standardize_string)\n",
    "df['host_country'] = df['host_country'].apply(standardize_string)\n",
    "df['country_name'] = df['country_name'].apply(standardize_string)\n",
    "df.rename(columns={'country_name': 'athlete_country'}, inplace=True)"
   ]
  },
  {
   "cell_type": "code",
   "execution_count": null,
   "id": "8158c3d7-0185-48d4-95cb-72800a4d037a",
   "metadata": {},
   "outputs": [],
   "source": [
    "full_df = pd.concat([df, tiny_paris_df], ignore_index=True)\n",
    "full_df.head()"
   ]
  },
  {
   "cell_type": "code",
   "execution_count": null,
   "id": "0ad9b5dc-bdac-491d-834e-5484d54fd1f6",
   "metadata": {},
   "outputs": [],
   "source": [
    "full_df.tail()"
   ]
  },
  {
   "cell_type": "code",
   "execution_count": null,
   "id": "e4f32941-3ecd-4bf8-af2b-965411876194",
   "metadata": {},
   "outputs": [],
   "source": [
    "full_df['athlete_country'].value_counts().head(20)"
   ]
  },
  {
   "cell_type": "code",
   "execution_count": null,
   "id": "f41e25a3-5607-44cb-a69a-d11363bfcf46",
   "metadata": {},
   "outputs": [],
   "source": [
    "full_df.to_csv('../data/clean/clean_summer_df.csv')"
   ]
  }
 ],
 "metadata": {
  "kernelspec": {
   "display_name": "Python 3 (ipykernel)",
   "language": "python",
   "name": "python3"
  },
  "language_info": {
   "codemirror_mode": {
    "name": "ipython",
    "version": 3
   },
   "file_extension": ".py",
   "mimetype": "text/x-python",
   "name": "python",
   "nbconvert_exporter": "python",
   "pygments_lexer": "ipython3",
   "version": "3.12.4"
  }
 },
 "nbformat": 4,
 "nbformat_minor": 5
}
