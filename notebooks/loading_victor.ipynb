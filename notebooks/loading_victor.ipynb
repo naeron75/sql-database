{
 "cells": [
  {
   "cell_type": "code",
   "execution_count": null,
   "id": "7105221f-e208-4d3b-b168-0d809cb430df",
   "metadata": {},
   "outputs": [],
   "source": [
    "import pandas as pd"
   ]
  },
  {
   "cell_type": "code",
   "execution_count": null,
   "id": "d97d3478-a592-40c0-b381-274b4d16169a",
   "metadata": {},
   "outputs": [],
   "source": [
    "medals_df = pd.read_csv('../data/raw/olympic_medals.csv')\n",
    "hosts_df = pd.read_csv('../data/raw/olympic_hosts.csv')\n",
    "paris_df = pd.read_csv('../data/raw/paris_medallists.csv')"
   ]
  },
  {
   "cell_type": "code",
   "execution_count": null,
   "id": "54b93bdb-2c64-46eb-b1ad-fe85419ba086",
   "metadata": {},
   "outputs": [],
   "source": [
    "medals_df.head()"
   ]
  },
  {
   "cell_type": "code",
   "execution_count": null,
   "id": "7419d660-6d57-4ceb-8e4d-3f5e51d3339e",
   "metadata": {},
   "outputs": [],
   "source": [
    "columns_to_drop = ['discipline_title', 'event_title', 'event_gender', 'participant_type', 'participant_title', 'athlete_url', 'athlete_full_name', 'country_code', 'country_3_letter_code']\n",
    "medals_df.drop(columns_to_drop, axis=1, inplace=True)\n",
    "medals_df.head()"
   ]
  },
  {
   "cell_type": "code",
   "execution_count": null,
   "id": "f622a9e0-1fd2-447b-89f9-3fe77c752b68",
   "metadata": {},
   "outputs": [],
   "source": [
    "hosts_df.head()"
   ]
  },
  {
   "cell_type": "code",
   "execution_count": null,
   "id": "8474f9e5-0888-4c3d-8707-be991f7a34e8",
   "metadata": {},
   "outputs": [],
   "source": [
    "summer_hosts = hosts_df[hosts_df['game_season'] == 'Summer']"
   ]
  },
  {
   "cell_type": "code",
   "execution_count": null,
   "id": "bf2e22ea-0793-4196-bc55-9c46a41bf5b1",
   "metadata": {},
   "outputs": [],
   "source": [
    "summer_hosts.head()"
   ]
  },
  {
   "cell_type": "code",
   "execution_count": null,
   "id": "1b4b4008-b37c-419d-b159-96ef4e496b1a",
   "metadata": {},
   "outputs": [],
   "source": [
    "def create_country_column(slug):\n",
    "    for i, host_slug in enumerate(hosts_df['game_slug']):\n",
    "        if slug == host_slug:\n",
    "            return hosts_df['game_location'].iloc[i]\n",
    "\n",
    "def create_year_column(slug):\n",
    "    for i, host_slug in enumerate(hosts_df['game_slug']):\n",
    "        if slug == host_slug:\n",
    "            return hosts_df['game_year'].iloc[i]\n",
    "\n",
    "def create_season_column(slug):\n",
    "    for i, host_slug in enumerate(hosts_df['game_slug']):\n",
    "        if slug == host_slug:\n",
    "            return hosts_df['game_season'].iloc[i]"
   ]
  },
  {
   "cell_type": "code",
   "execution_count": null,
   "id": "9826f1fb-dc95-499b-9651-449ffb90398c",
   "metadata": {},
   "outputs": [],
   "source": [
    "df = medals_df.copy()"
   ]
  },
  {
   "cell_type": "code",
   "execution_count": null,
   "id": "8f8de22f-43b9-4451-bcb0-7155396deacd",
   "metadata": {},
   "outputs": [],
   "source": [
    "df['host_country'] = medals_df['slug_game'].apply(create_country_column)\n",
    "df['game_year'] = medals_df['slug_game'].apply(create_year_column)\n",
    "df['game_season'] = medals_df['slug_game'].apply(create_season_column)"
   ]
  },
  {
   "cell_type": "code",
   "execution_count": null,
   "id": "2dc87195-8221-4f50-85fd-c321110199b3",
   "metadata": {},
   "outputs": [],
   "source": [
    "df = df[df['game_season'] == 'Summer']\n",
    "df.reset_index(drop=True, inplace=True)"
   ]
  },
  {
   "cell_type": "code",
   "execution_count": null,
   "id": "d23085d1-736b-4612-ac78-0d7f7a46b3ef",
   "metadata": {},
   "outputs": [],
   "source": [
    "df.head()"
   ]
  },
  {
   "cell_type": "code",
   "execution_count": null,
   "id": "7762afe1-8d56-42ee-bf02-4519b6f2a73f",
   "metadata": {},
   "outputs": [],
   "source": [
    "df.isnull().values.any()"
   ]
  },
  {
   "cell_type": "code",
   "execution_count": null,
   "id": "789155e8-d90e-44ad-be93-d128c54491fa",
   "metadata": {},
   "outputs": [],
   "source": [
    "df.drop(['slug_game', 'game_season'], axis=1, inplace=True)\n",
    "df.head()"
   ]
  },
  {
   "cell_type": "code",
   "execution_count": null,
   "id": "04cb3b95-8c1c-4dde-a1b1-002ae9bb7b21",
   "metadata": {},
   "outputs": [],
   "source": [
    "paris_df.head()"
   ]
  },
  {
   "cell_type": "code",
   "execution_count": null,
   "id": "cd71e99f-353d-49e8-bfab-c4bca984d17b",
   "metadata": {},
   "outputs": [],
   "source": [
    "paris_df.columns"
   ]
  },
  {
   "cell_type": "code",
   "execution_count": null,
   "id": "3252f46f-c143-4c14-96bc-40884aaf65d5",
   "metadata": {},
   "outputs": [],
   "source": [
    "tiny_paris_df = paris_df.drop(columns=['medal_date', 'medal_code', 'name', 'gender',\n",
    "       'country_code', 'country_long', 'nationality_code',\n",
    "       'nationality', 'nationality_long', 'team', 'team_gender', 'discipline',\n",
    "       'event', 'event_type', 'url_event', 'birth_date', 'code_athlete',\n",
    "       'code_team', 'is_medallist'])"
   ]
  },
  {
   "cell_type": "code",
   "execution_count": null,
   "id": "10043fb2-78e6-4ff9-ad15-2c24ad039fd3",
   "metadata": {},
   "outputs": [],
   "source": [
    "tiny_paris_df.head()"
   ]
  },
  {
   "cell_type": "code",
   "execution_count": null,
   "id": "829e6dc8-21d7-40b5-9813-6d655270fc01",
   "metadata": {},
   "outputs": [],
   "source": [
    "def standardize_medal_type(medal):\n",
    "    return medal.lower().strip().replace(' medal', '')"
   ]
  },
  {
   "cell_type": "code",
   "execution_count": null,
   "id": "381ce01c-2968-4a05-82ae-e46cf3b42d16",
   "metadata": {},
   "outputs": [],
   "source": [
    "tiny_paris_df['medal_type'] = tiny_paris_df['medal_type'].apply(standardize_medal_type)"
   ]
  },
  {
   "cell_type": "code",
   "execution_count": null,
   "id": "f8743f7d-e79b-40cf-b8c1-3410150d9156",
   "metadata": {},
   "outputs": [],
   "source": [
    "tiny_paris_df.head()"
   ]
  },
  {
   "cell_type": "code",
   "execution_count": null,
   "id": "c4dda99a-46a9-4c68-b270-568f56f4c9c9",
   "metadata": {},
   "outputs": [],
   "source": [
    "tiny_paris_df['host_country'] = 'France'"
   ]
  },
  {
   "cell_type": "code",
   "execution_count": null,
   "id": "f9f5b3e8-c267-48e6-a79f-4488e438d9ad",
   "metadata": {},
   "outputs": [],
   "source": [
    "tiny_paris_df['game_year'] = 2024"
   ]
  },
  {
   "cell_type": "code",
   "execution_count": null,
   "id": "2935e525-6c4d-48c7-8c5e-09ef82e15c83",
   "metadata": {},
   "outputs": [],
   "source": [
    "tiny_paris_df.head()"
   ]
  },
  {
   "cell_type": "code",
   "execution_count": null,
   "id": "381b0627-78a7-44c0-adbe-92fda79461d8",
   "metadata": {},
   "outputs": [],
   "source": [
    "def standardize_string(string):\n",
    "    return string.lower().strip()"
   ]
  },
  {
   "cell_type": "code",
   "execution_count": null,
   "id": "fec91411-2c52-4bc6-9748-4a014c6265bc",
   "metadata": {},
   "outputs": [],
   "source": [
    "tiny_paris_df['country'] = tiny_paris_df['country'].apply(standardize_string)\n",
    "tiny_paris_df['host_country'] = tiny_paris_df['host_country'].apply(standardize_string)\n",
    "tiny_paris_df.rename(columns={'country': 'athlete_country'}, inplace=True)\n",
    "\n",
    "df['medal_type'] = df['medal_type'].apply(standardize_string)\n",
    "df['host_country'] = df['host_country'].apply(standardize_string)\n",
    "df['country_name'] = df['country_name'].apply(standardize_string)\n",
    "df.rename(columns={'country_name': 'athlete_country'}, inplace=True)"
   ]
  },
  {
   "cell_type": "code",
   "execution_count": null,
   "id": "8158c3d7-0185-48d4-95cb-72800a4d037a",
   "metadata": {},
   "outputs": [],
   "source": [
    "full_df = pd.concat([df, tiny_paris_df], ignore_index=True)\n",
    "full_df.head()"
   ]
  },
  {
   "cell_type": "code",
   "execution_count": null,
   "id": "0ad9b5dc-bdac-491d-834e-5484d54fd1f6",
   "metadata": {},
   "outputs": [],
   "source": [
    "full_df.tail()"
   ]
  },
  {
   "cell_type": "code",
   "execution_count": null,
   "id": "e4f32941-3ecd-4bf8-af2b-965411876194",
   "metadata": {},
   "outputs": [],
   "source": [
    "full_df['athlete_country'].value_counts().head(20)"
   ]
  },
  {
   "cell_type": "code",
   "execution_count": null,
   "id": "f41e25a3-5607-44cb-a69a-d11363bfcf46",
   "metadata": {},
   "outputs": [],
   "source": [
    "full_df.to_csv('../data/clean/clean_summer_df.csv')"
   ]
  }
 ],
 "metadata": {
  "kernelspec": {
   "display_name": "Python 3 (ipykernel)",
   "language": "python",
   "name": "python3"
  },
  "language_info": {
   "codemirror_mode": {
    "name": "ipython",
    "version": 3
   },
   "file_extension": ".py",
   "mimetype": "text/x-python",
   "name": "python",
   "nbconvert_exporter": "python",
   "pygments_lexer": "ipython3",
   "version": "3.12.4"
  }
 },
 "nbformat": 4,
 "nbformat_minor": 5
}
